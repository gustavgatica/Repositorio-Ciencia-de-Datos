{
 "cells": [
  {
   "cell_type": "markdown",
   "metadata": {
    "ExecuteTime": {
     "end_time": "2019-06-13T23:25:14.469653Z",
     "start_time": "2019-06-13T23:25:14.466118Z"
    }
   },
   "source": [
    "### **MA5204: Aprendizaje de Máquinas**\n",
    "\n",
    "**Departamento de Ingeniería Matemática, Universidad de Chile**\n",
    "\n",
    "**Profesor:** Felipe Tobar\n",
    "\n",
    "**Ayudantes:** Alejandro Cuevas, Mauricio Araneda, Mauricio Romero"
   ]
  },
  {
   "cell_type": "markdown",
   "metadata": {},
   "source": [
    "# Cargar MNIST\n",
    "\n",
    "Este notebook contiene 2 formas de cargar el dataset MNIST para desarrollar la tarea 4, \n",
    "1. Usando __Sklearn__.\n",
    "2. Usando __Pytorch__.\n",
    "\n",
    "En ambos casos se tienen $70.000$ imágenes de 28x28.\n",
    "\n",
    "__Importante!:__ Al cargar con sklearn cada imagen esta \"estirada\" como vector de 784 dimensiones. Al cargar con Pytorch cada imagen es una matriz de 28x28."
   ]
  },
  {
   "cell_type": "code",
   "execution_count": 1,
   "metadata": {
    "ExecuteTime": {
     "end_time": "2019-06-12T15:41:02.563347Z",
     "start_time": "2019-06-12T15:41:02.561066Z"
    }
   },
   "outputs": [],
   "source": [
    "import os"
   ]
  },
  {
   "cell_type": "markdown",
   "metadata": {},
   "source": [
    "Primero creamos una carpeta para guardar el dataset"
   ]
  },
  {
   "cell_type": "code",
   "execution_count": 2,
   "metadata": {
    "ExecuteTime": {
     "end_time": "2019-06-12T15:41:03.598877Z",
     "start_time": "2019-06-12T15:41:03.591145Z"
    }
   },
   "outputs": [],
   "source": [
    "# creamos carpeta si es que no existe\n",
    "os.makedirs('data', exist_ok=True)"
   ]
  },
  {
   "cell_type": "markdown",
   "metadata": {},
   "source": [
    "## Opción 1: Sklearn"
   ]
  },
  {
   "cell_type": "code",
   "execution_count": 3,
   "metadata": {
    "ExecuteTime": {
     "end_time": "2019-06-12T15:41:13.755664Z",
     "start_time": "2019-06-12T15:41:04.588186Z"
    }
   },
   "outputs": [],
   "source": [
    "import numpy as np\n",
    "from sklearn.datasets import fetch_openml"
   ]
  },
  {
   "cell_type": "code",
   "execution_count": 4,
   "metadata": {
    "ExecuteTime": {
     "end_time": "2019-06-12T15:41:33.713895Z",
     "start_time": "2019-06-12T15:41:13.762210Z"
    }
   },
   "outputs": [],
   "source": [
    "# cargar dataset\n",
    "X, y = fetch_openml('mnist_784', version=1, return_X_y=True)"
   ]
  },
  {
   "cell_type": "code",
   "execution_count": 5,
   "metadata": {
    "ExecuteTime": {
     "end_time": "2019-06-12T15:41:33.728161Z",
     "start_time": "2019-06-12T15:41:33.716446Z"
    }
   },
   "outputs": [
    {
     "data": {
      "text/plain": [
       "(70000, 784)"
      ]
     },
     "execution_count": 5,
     "metadata": {},
     "output_type": "execute_result"
    }
   ],
   "source": [
    "# verifiquemos la dimension\n",
    "# n_samples X n_features\n",
    "X.shape"
   ]
  },
  {
   "cell_type": "markdown",
   "metadata": {},
   "source": [
    "## Opción 2: Pytorch"
   ]
  },
  {
   "cell_type": "code",
   "execution_count": 7,
   "metadata": {
    "ExecuteTime": {
     "end_time": "2019-06-12T15:41:55.597927Z",
     "start_time": "2019-06-12T15:41:49.134671Z"
    }
   },
   "outputs": [],
   "source": [
    "import torch\n",
    "from torchvision import datasets"
   ]
  },
  {
   "cell_type": "code",
   "execution_count": 8,
   "metadata": {
    "ExecuteTime": {
     "end_time": "2019-06-12T15:41:57.726208Z",
     "start_time": "2019-06-12T15:41:56.742926Z"
    }
   },
   "outputs": [],
   "source": [
    "# descargar conjunto entrenamiento\n",
    "trainset = datasets.MNIST('data', download=True, train=True)\n",
    "\n",
    "# descargar conjunto de test\n",
    "valset = datasets.MNIST('data', download=True, train=False)"
   ]
  },
  {
   "cell_type": "markdown",
   "metadata": {},
   "source": [
    "Una vez cargamos verificamos el tamaño"
   ]
  },
  {
   "cell_type": "code",
   "execution_count": 9,
   "metadata": {
    "ExecuteTime": {
     "end_time": "2019-06-12T15:41:58.919301Z",
     "start_time": "2019-06-12T15:41:58.915744Z"
    }
   },
   "outputs": [
    {
     "data": {
      "text/plain": [
       "torch.Size([60000, 28, 28])"
      ]
     },
     "execution_count": 9,
     "metadata": {},
     "output_type": "execute_result"
    }
   ],
   "source": [
    "# verificar tamaño\n",
    "trainset.train_data.shape"
   ]
  },
  {
   "cell_type": "code",
   "execution_count": 10,
   "metadata": {
    "ExecuteTime": {
     "end_time": "2019-06-12T15:41:59.769670Z",
     "start_time": "2019-06-12T15:41:59.759194Z"
    }
   },
   "outputs": [
    {
     "data": {
      "text/plain": [
       "torch.Size([10000, 28, 28])"
      ]
     },
     "execution_count": 10,
     "metadata": {},
     "output_type": "execute_result"
    }
   ],
   "source": [
    "# verificar tamaño\n",
    "valset.test_data.shape"
   ]
  }
 ],
 "metadata": {
  "kernelspec": {
   "display_name": "torch",
   "language": "python",
   "name": "torch"
  },
  "language_info": {
   "codemirror_mode": {
    "name": "ipython",
    "version": 3
   },
   "file_extension": ".py",
   "mimetype": "text/x-python",
   "name": "python",
   "nbconvert_exporter": "python",
   "pygments_lexer": "ipython3",
   "version": "3.7.2"
  }
 },
 "nbformat": 4,
 "nbformat_minor": 2
}
